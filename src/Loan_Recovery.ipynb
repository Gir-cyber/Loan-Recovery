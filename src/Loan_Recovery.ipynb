{
 "cells": [
  {
   "cell_type": "code",
   "execution_count": 90,
   "id": "720095b7-8127-4304-a500-3a240ad1546c",
   "metadata": {},
   "outputs": [],
   "source": [
    "import pandas as pd"
   ]
  },
  {
   "cell_type": "code",
   "execution_count": 4,
   "id": "6a208312-5f22-4fe3-be92-67b40b4d9a86",
   "metadata": {},
   "outputs": [],
   "source": [
    "df = pd.read_csv(r\"C:\\Users\\giris\\Downloads\\cs-training.csv\\cs-training.csv\")"
   ]
  },
  {
   "cell_type": "code",
   "execution_count": 5,
   "id": "c1f247fc-14ba-4bda-8678-f4221faffca8",
   "metadata": {},
   "outputs": [
    {
     "data": {
      "text/html": [
       "<div>\n",
       "<style scoped>\n",
       "    .dataframe tbody tr th:only-of-type {\n",
       "        vertical-align: middle;\n",
       "    }\n",
       "\n",
       "    .dataframe tbody tr th {\n",
       "        vertical-align: top;\n",
       "    }\n",
       "\n",
       "    .dataframe thead th {\n",
       "        text-align: right;\n",
       "    }\n",
       "</style>\n",
       "<table border=\"1\" class=\"dataframe\">\n",
       "  <thead>\n",
       "    <tr style=\"text-align: right;\">\n",
       "      <th></th>\n",
       "      <th>Unnamed: 0</th>\n",
       "      <th>SeriousDlqin2yrs</th>\n",
       "      <th>RevolvingUtilizationOfUnsecuredLines</th>\n",
       "      <th>age</th>\n",
       "      <th>NumberOfTime30-59DaysPastDueNotWorse</th>\n",
       "      <th>DebtRatio</th>\n",
       "      <th>MonthlyIncome</th>\n",
       "      <th>NumberOfOpenCreditLinesAndLoans</th>\n",
       "      <th>NumberOfTimes90DaysLate</th>\n",
       "      <th>NumberRealEstateLoansOrLines</th>\n",
       "      <th>NumberOfTime60-89DaysPastDueNotWorse</th>\n",
       "      <th>NumberOfDependents</th>\n",
       "    </tr>\n",
       "  </thead>\n",
       "  <tbody>\n",
       "    <tr>\n",
       "      <th>0</th>\n",
       "      <td>1</td>\n",
       "      <td>1</td>\n",
       "      <td>0.766127</td>\n",
       "      <td>45</td>\n",
       "      <td>2</td>\n",
       "      <td>0.802982</td>\n",
       "      <td>9120.0</td>\n",
       "      <td>13</td>\n",
       "      <td>0</td>\n",
       "      <td>6</td>\n",
       "      <td>0</td>\n",
       "      <td>2.0</td>\n",
       "    </tr>\n",
       "    <tr>\n",
       "      <th>1</th>\n",
       "      <td>2</td>\n",
       "      <td>0</td>\n",
       "      <td>0.957151</td>\n",
       "      <td>40</td>\n",
       "      <td>0</td>\n",
       "      <td>0.121876</td>\n",
       "      <td>2600.0</td>\n",
       "      <td>4</td>\n",
       "      <td>0</td>\n",
       "      <td>0</td>\n",
       "      <td>0</td>\n",
       "      <td>1.0</td>\n",
       "    </tr>\n",
       "    <tr>\n",
       "      <th>2</th>\n",
       "      <td>3</td>\n",
       "      <td>0</td>\n",
       "      <td>0.658180</td>\n",
       "      <td>38</td>\n",
       "      <td>1</td>\n",
       "      <td>0.085113</td>\n",
       "      <td>3042.0</td>\n",
       "      <td>2</td>\n",
       "      <td>1</td>\n",
       "      <td>0</td>\n",
       "      <td>0</td>\n",
       "      <td>0.0</td>\n",
       "    </tr>\n",
       "    <tr>\n",
       "      <th>3</th>\n",
       "      <td>4</td>\n",
       "      <td>0</td>\n",
       "      <td>0.233810</td>\n",
       "      <td>30</td>\n",
       "      <td>0</td>\n",
       "      <td>0.036050</td>\n",
       "      <td>3300.0</td>\n",
       "      <td>5</td>\n",
       "      <td>0</td>\n",
       "      <td>0</td>\n",
       "      <td>0</td>\n",
       "      <td>0.0</td>\n",
       "    </tr>\n",
       "    <tr>\n",
       "      <th>4</th>\n",
       "      <td>5</td>\n",
       "      <td>0</td>\n",
       "      <td>0.907239</td>\n",
       "      <td>49</td>\n",
       "      <td>1</td>\n",
       "      <td>0.024926</td>\n",
       "      <td>63588.0</td>\n",
       "      <td>7</td>\n",
       "      <td>0</td>\n",
       "      <td>1</td>\n",
       "      <td>0</td>\n",
       "      <td>0.0</td>\n",
       "    </tr>\n",
       "  </tbody>\n",
       "</table>\n",
       "</div>"
      ],
      "text/plain": [
       "   Unnamed: 0  SeriousDlqin2yrs  RevolvingUtilizationOfUnsecuredLines  age  \\\n",
       "0           1                 1                              0.766127   45   \n",
       "1           2                 0                              0.957151   40   \n",
       "2           3                 0                              0.658180   38   \n",
       "3           4                 0                              0.233810   30   \n",
       "4           5                 0                              0.907239   49   \n",
       "\n",
       "   NumberOfTime30-59DaysPastDueNotWorse  DebtRatio  MonthlyIncome  \\\n",
       "0                                     2   0.802982         9120.0   \n",
       "1                                     0   0.121876         2600.0   \n",
       "2                                     1   0.085113         3042.0   \n",
       "3                                     0   0.036050         3300.0   \n",
       "4                                     1   0.024926        63588.0   \n",
       "\n",
       "   NumberOfOpenCreditLinesAndLoans  NumberOfTimes90DaysLate  \\\n",
       "0                               13                        0   \n",
       "1                                4                        0   \n",
       "2                                2                        1   \n",
       "3                                5                        0   \n",
       "4                                7                        0   \n",
       "\n",
       "   NumberRealEstateLoansOrLines  NumberOfTime60-89DaysPastDueNotWorse  \\\n",
       "0                             6                                     0   \n",
       "1                             0                                     0   \n",
       "2                             0                                     0   \n",
       "3                             0                                     0   \n",
       "4                             1                                     0   \n",
       "\n",
       "   NumberOfDependents  \n",
       "0                 2.0  \n",
       "1                 1.0  \n",
       "2                 0.0  \n",
       "3                 0.0  \n",
       "4                 0.0  "
      ]
     },
     "execution_count": 5,
     "metadata": {},
     "output_type": "execute_result"
    }
   ],
   "source": [
    "df.head()"
   ]
  },
  {
   "cell_type": "code",
   "execution_count": 6,
   "id": "219de156-3a4c-4b85-adcf-1b69a71053dc",
   "metadata": {},
   "outputs": [
    {
     "data": {
      "text/html": [
       "<div>\n",
       "<style scoped>\n",
       "    .dataframe tbody tr th:only-of-type {\n",
       "        vertical-align: middle;\n",
       "    }\n",
       "\n",
       "    .dataframe tbody tr th {\n",
       "        vertical-align: top;\n",
       "    }\n",
       "\n",
       "    .dataframe thead th {\n",
       "        text-align: right;\n",
       "    }\n",
       "</style>\n",
       "<table border=\"1\" class=\"dataframe\">\n",
       "  <thead>\n",
       "    <tr style=\"text-align: right;\">\n",
       "      <th></th>\n",
       "      <th>Unnamed: 0</th>\n",
       "      <th>SeriousDlqin2yrs</th>\n",
       "      <th>RevolvingUtilizationOfUnsecuredLines</th>\n",
       "      <th>age</th>\n",
       "      <th>NumberOfTime30-59DaysPastDueNotWorse</th>\n",
       "      <th>DebtRatio</th>\n",
       "      <th>MonthlyIncome</th>\n",
       "      <th>NumberOfOpenCreditLinesAndLoans</th>\n",
       "      <th>NumberOfTimes90DaysLate</th>\n",
       "      <th>NumberRealEstateLoansOrLines</th>\n",
       "      <th>NumberOfTime60-89DaysPastDueNotWorse</th>\n",
       "      <th>NumberOfDependents</th>\n",
       "    </tr>\n",
       "  </thead>\n",
       "  <tbody>\n",
       "    <tr>\n",
       "      <th>0</th>\n",
       "      <td>1</td>\n",
       "      <td>1</td>\n",
       "      <td>0.766127</td>\n",
       "      <td>45</td>\n",
       "      <td>2</td>\n",
       "      <td>0.802982</td>\n",
       "      <td>9120.0</td>\n",
       "      <td>13</td>\n",
       "      <td>0</td>\n",
       "      <td>6</td>\n",
       "      <td>0</td>\n",
       "      <td>2.0</td>\n",
       "    </tr>\n",
       "    <tr>\n",
       "      <th>1</th>\n",
       "      <td>2</td>\n",
       "      <td>0</td>\n",
       "      <td>0.957151</td>\n",
       "      <td>40</td>\n",
       "      <td>0</td>\n",
       "      <td>0.121876</td>\n",
       "      <td>2600.0</td>\n",
       "      <td>4</td>\n",
       "      <td>0</td>\n",
       "      <td>0</td>\n",
       "      <td>0</td>\n",
       "      <td>1.0</td>\n",
       "    </tr>\n",
       "    <tr>\n",
       "      <th>2</th>\n",
       "      <td>3</td>\n",
       "      <td>0</td>\n",
       "      <td>0.658180</td>\n",
       "      <td>38</td>\n",
       "      <td>1</td>\n",
       "      <td>0.085113</td>\n",
       "      <td>3042.0</td>\n",
       "      <td>2</td>\n",
       "      <td>1</td>\n",
       "      <td>0</td>\n",
       "      <td>0</td>\n",
       "      <td>0.0</td>\n",
       "    </tr>\n",
       "    <tr>\n",
       "      <th>3</th>\n",
       "      <td>4</td>\n",
       "      <td>0</td>\n",
       "      <td>0.233810</td>\n",
       "      <td>30</td>\n",
       "      <td>0</td>\n",
       "      <td>0.036050</td>\n",
       "      <td>3300.0</td>\n",
       "      <td>5</td>\n",
       "      <td>0</td>\n",
       "      <td>0</td>\n",
       "      <td>0</td>\n",
       "      <td>0.0</td>\n",
       "    </tr>\n",
       "    <tr>\n",
       "      <th>4</th>\n",
       "      <td>5</td>\n",
       "      <td>0</td>\n",
       "      <td>0.907239</td>\n",
       "      <td>49</td>\n",
       "      <td>1</td>\n",
       "      <td>0.024926</td>\n",
       "      <td>63588.0</td>\n",
       "      <td>7</td>\n",
       "      <td>0</td>\n",
       "      <td>1</td>\n",
       "      <td>0</td>\n",
       "      <td>0.0</td>\n",
       "    </tr>\n",
       "  </tbody>\n",
       "</table>\n",
       "</div>"
      ],
      "text/plain": [
       "   Unnamed: 0  SeriousDlqin2yrs  RevolvingUtilizationOfUnsecuredLines  age  \\\n",
       "0           1                 1                              0.766127   45   \n",
       "1           2                 0                              0.957151   40   \n",
       "2           3                 0                              0.658180   38   \n",
       "3           4                 0                              0.233810   30   \n",
       "4           5                 0                              0.907239   49   \n",
       "\n",
       "   NumberOfTime30-59DaysPastDueNotWorse  DebtRatio  MonthlyIncome  \\\n",
       "0                                     2   0.802982         9120.0   \n",
       "1                                     0   0.121876         2600.0   \n",
       "2                                     1   0.085113         3042.0   \n",
       "3                                     0   0.036050         3300.0   \n",
       "4                                     1   0.024926        63588.0   \n",
       "\n",
       "   NumberOfOpenCreditLinesAndLoans  NumberOfTimes90DaysLate  \\\n",
       "0                               13                        0   \n",
       "1                                4                        0   \n",
       "2                                2                        1   \n",
       "3                                5                        0   \n",
       "4                                7                        0   \n",
       "\n",
       "   NumberRealEstateLoansOrLines  NumberOfTime60-89DaysPastDueNotWorse  \\\n",
       "0                             6                                     0   \n",
       "1                             0                                     0   \n",
       "2                             0                                     0   \n",
       "3                             0                                     0   \n",
       "4                             1                                     0   \n",
       "\n",
       "   NumberOfDependents  \n",
       "0                 2.0  \n",
       "1                 1.0  \n",
       "2                 0.0  \n",
       "3                 0.0  \n",
       "4                 0.0  "
      ]
     },
     "execution_count": 6,
     "metadata": {},
     "output_type": "execute_result"
    }
   ],
   "source": [
    "df.drop('Unnamed: 0', axis=1)\n",
    "df.head()"
   ]
  },
  {
   "cell_type": "code",
   "execution_count": 7,
   "id": "ba4707e4-973c-4c72-955b-058161fc0153",
   "metadata": {},
   "outputs": [
    {
     "data": {
      "text/plain": [
       "Unnamed: 0                                  0\n",
       "SeriousDlqin2yrs                            0\n",
       "RevolvingUtilizationOfUnsecuredLines        0\n",
       "age                                         0\n",
       "NumberOfTime30-59DaysPastDueNotWorse        0\n",
       "DebtRatio                                   0\n",
       "MonthlyIncome                           29731\n",
       "NumberOfOpenCreditLinesAndLoans             0\n",
       "NumberOfTimes90DaysLate                     0\n",
       "NumberRealEstateLoansOrLines                0\n",
       "NumberOfTime60-89DaysPastDueNotWorse        0\n",
       "NumberOfDependents                       3924\n",
       "dtype: int64"
      ]
     },
     "execution_count": 7,
     "metadata": {},
     "output_type": "execute_result"
    }
   ],
   "source": [
    "df.isnull().sum()"
   ]
  },
  {
   "cell_type": "code",
   "execution_count": 8,
   "id": "2e836473-7a44-4675-b616-cb1c7061b06c",
   "metadata": {},
   "outputs": [
    {
     "data": {
      "text/plain": [
       "(150000, 12)"
      ]
     },
     "execution_count": 8,
     "metadata": {},
     "output_type": "execute_result"
    }
   ],
   "source": [
    "df.shape"
   ]
  },
  {
   "cell_type": "code",
   "execution_count": 9,
   "id": "4532bf27-dcd4-4326-8b35-5d32ad207dd3",
   "metadata": {},
   "outputs": [
    {
     "data": {
      "text/plain": [
       "(120269, 12)"
      ]
     },
     "execution_count": 9,
     "metadata": {},
     "output_type": "execute_result"
    }
   ],
   "source": [
    "df.dropna(inplace=True)\n",
    "df.shape"
   ]
  },
  {
   "cell_type": "code",
   "execution_count": 24,
   "id": "d8afbec0-779f-4b3e-b748-4a1cf0dd7f3a",
   "metadata": {},
   "outputs": [
    {
     "data": {
      "text/plain": [
       "False    120269\n",
       "Name: count, dtype: int64"
      ]
     },
     "execution_count": 24,
     "metadata": {},
     "output_type": "execute_result"
    }
   ],
   "source": [
    "df.duplicated().value_counts()"
   ]
  },
  {
   "cell_type": "code",
   "execution_count": 25,
   "id": "cee0954b-865c-4b6c-b595-1c2ce9763d97",
   "metadata": {},
   "outputs": [
    {
     "data": {
      "text/plain": [
       "Unnamed: 0           0\n",
       "DefaultIn2yrs        0\n",
       "CreditUtilization    0\n",
       "Age                  0\n",
       "PastDue30_59         0\n",
       "DebtToIncomeRatio    0\n",
       "MonthlyIncome        0\n",
       "OpenCreditLines      0\n",
       "PastDue90            0\n",
       "RealEstateLoans      0\n",
       "PastDue60_89         0\n",
       "Dependents           0\n",
       "dtype: int64"
      ]
     },
     "execution_count": 25,
     "metadata": {},
     "output_type": "execute_result"
    }
   ],
   "source": [
    "df.isnull().sum()"
   ]
  },
  {
   "cell_type": "code",
   "execution_count": 26,
   "id": "cbab893d-ef80-46a0-ae10-5bbc343ce500",
   "metadata": {},
   "outputs": [],
   "source": [
    "from sklearn.model_selection import train_test_split\n",
    "from sklearn.preprocessing import StandardScaler\n",
    "\n",
    "df = df.rename(columns={\n",
    "    \"SeriousDlqin2yrs\": \"DefaultIn2yrs\",\n",
    "    \"RevolvingUtilizationOfUnsecuredLines\": \"CreditUtilization\",\n",
    "    \"age\": \"Age\",\n",
    "    \"NumberOfTime30-59DaysPastDueNotWorse\": \"PastDue30_59\",\n",
    "    \"DebtRatio\": \"DebtToIncomeRatio\",\n",
    "    \"MonthlyIncome\": \"MonthlyIncome\",\n",
    "    \"NumberOfOpenCreditLinesAndLoans\": \"OpenCreditLines\",\n",
    "    \"NumberOfTimes90DaysLate\": \"PastDue90\",\n",
    "    \"NumberRealEstateLoansOrLines\": \"RealEstateLoans\",\n",
    "    \"NumberOfTime60-89DaysPastDueNotWorse\": \"PastDue60_89\",\n",
    "    \"NumberOfDependents\": \"Dependents\"\n",
    "})\n"
   ]
  },
  {
   "cell_type": "code",
   "execution_count": 27,
   "id": "c5abf799-8abd-44d0-8a5c-68f1285464b4",
   "metadata": {},
   "outputs": [
    {
     "name": "stdout",
     "output_type": "stream",
     "text": [
      "Before balancing:\n",
      "DefaultIn2yrs\n",
      "0    111912\n",
      "1      8357\n",
      "Name: count, dtype: int64\n",
      "\n",
      "After balancing:\n",
      "DefaultIn2yrs\n",
      "0    8357\n",
      "1    8357\n",
      "Name: count, dtype: int64\n"
     ]
    }
   ],
   "source": [
    "df_majority = df[df[\"DefaultIn2yrs\"] == 0]\n",
    "df_minority = df[df[\"DefaultIn2yrs\"] == 1]\n",
    "\n",
    "print(\"Before balancing:\")\n",
    "print(df[\"DefaultIn2yrs\"].value_counts())\n",
    "\n",
    "df_majority_downsampled = df_majority.sample(n=len(df_minority), random_state=42)\n",
    "\n",
    "df_balanced = pd.concat([df_majority_downsampled, df_minority])\n",
    "\n",
    "df_balanced = df_balanced.sample(frac=1, random_state=42).reset_index(drop=True)\n",
    "\n",
    "print(\"\\nAfter balancing:\")\n",
    "print(df_balanced[\"DefaultIn2yrs\"].value_counts())\n"
   ]
  },
  {
   "cell_type": "code",
   "execution_count": 28,
   "id": "ec5726e2-4f3c-43fe-841b-1ce1baf7ab1b",
   "metadata": {},
   "outputs": [],
   "source": [
    "target = \"DefaultIn2yrs\"\n",
    "features = [\n",
    "    \"CreditUtilization\", \"Age\", \"PastDue30_59\", \"PastDue60_89\", \"PastDue90\",\n",
    "    \"DebtToIncomeRatio\", \"MonthlyIncome\", \"OpenCreditLines\", \"RealEstateLoans\", \"Dependents\"\n",
    "]\n",
    "\n",
    "X = df_balanced[features]\n",
    "y = df_balanced[target]"
   ]
  },
  {
   "cell_type": "code",
   "execution_count": 29,
   "id": "3dea3159-2fef-4a72-b36e-360d82783792",
   "metadata": {},
   "outputs": [
    {
     "name": "stdout",
     "output_type": "stream",
     "text": [
      "Training set size: (13371, 10)\n",
      "Test set size: (3343, 10)\n"
     ]
    }
   ],
   "source": [
    "scaler = StandardScaler()\n",
    "X_scaled = scaler.fit_transform(X)\n",
    "\n",
    "X_train, X_test, y_train, y_test = train_test_split( X_scaled, y, test_size=0.2, random_state=42)\n",
    "\n",
    "print(\"Training set size:\", X_train.shape)\n",
    "print(\"Test set size:\", X_test.shape)"
   ]
  },
  {
   "cell_type": "code",
   "execution_count": 30,
   "id": "5a226d95-767a-4134-94d4-0ec4ba5c9787",
   "metadata": {},
   "outputs": [],
   "source": [
    "from sklearn.linear_model import LogisticRegression\n",
    "from sklearn.neighbors import KNeighborsClassifier\n",
    "from sklearn.ensemble import RandomForestClassifier\n",
    "from sklearn.ensemble import GradientBoostingClassifier\n",
    "from sklearn.model_selection import cross_val_score\n",
    "from xgboost import XGBClassifier"
   ]
  },
  {
   "cell_type": "code",
   "execution_count": 31,
   "id": "a5827fc1-6a17-4a93-9d77-c7a08eff9732",
   "metadata": {},
   "outputs": [],
   "source": [
    "clf1 = LogisticRegression()\n",
    "clf2 = KNeighborsClassifier()\n",
    "clf3 = RandomForestClassifier()\n",
    "clf4 = GradientBoostingClassifier()\n",
    "clf5 = XGBClassifier()"
   ]
  },
  {
   "cell_type": "code",
   "execution_count": 32,
   "id": "0f45eaef-fe7c-4542-97a0-8aed62287272",
   "metadata": {},
   "outputs": [],
   "source": [
    "estimators = [('lr', clf1), ('knn', clf2), ('rf', clf3), ('gbc', clf4), ('xgb', clf5)]"
   ]
  },
  {
   "cell_type": "code",
   "execution_count": 33,
   "id": "eb71300e-435a-42a5-867c-2c9185abe694",
   "metadata": {},
   "outputs": [
    {
     "name": "stdout",
     "output_type": "stream",
     "text": [
      "lr 0.73\n",
      "knn 0.64\n",
      "rf 0.77\n",
      "gbc 0.77\n",
      "xgb 0.76\n"
     ]
    }
   ],
   "source": [
    "import numpy as np\n",
    "for estimator in estimators:\n",
    "    x = cross_val_score(estimator[1], X_scaled,y,cv=10,scoring='accuracy')\n",
    "    print(estimator[0], np.round(np.mean(x),2))"
   ]
  },
  {
   "cell_type": "code",
   "execution_count": 80,
   "id": "5a3f7540-fcbc-42b4-8901-085fb030868c",
   "metadata": {},
   "outputs": [
    {
     "name": "stdout",
     "output_type": "stream",
     "text": [
      "Fitting 5 folds for each of 243 candidates, totalling 1215 fits\n",
      "Best Parameters (GBM): {'learning_rate': 0.05, 'max_depth': 5, 'min_samples_leaf': 1, 'min_samples_split': 5, 'n_estimators': 100}\n",
      "Best CV Score (GBM): 0.7739200746198808\n"
     ]
    }
   ],
   "source": [
    "from sklearn.model_selection import GridSearchCV, StratifiedKFold\n",
    "from sklearn.ensemble import GradientBoostingClassifier\n",
    "\n",
    "gb_model = GradientBoostingClassifier(random_state=42)\n",
    "\n",
    "param_grid_gb = {\n",
    "    \"n_estimators\": [100, 200, 300],\n",
    "    \"learning_rate\": [0.01, 0.05, 0.1],\n",
    "    \"max_depth\": [3, 5, 7],\n",
    "    \"min_samples_split\": [2, 5, 10],\n",
    "    \"min_samples_leaf\": [1, 3, 5]\n",
    "}\n",
    "\n",
    "cv = StratifiedKFold(n_splits=5, shuffle=True, random_state=42)\n",
    "\n",
    "\n",
    "grid_gb = GridSearchCV(\n",
    "    estimator=gb_model,\n",
    "    param_grid=param_grid_gb,\n",
    "    scoring=\"f1\",        \n",
    "    n_jobs=-1,\n",
    "    cv=cv,\n",
    "    verbose=2\n",
    ")\n",
    "\n",
    "\n",
    "grid_gb.fit(X_train, y_train)\n",
    "\n",
    "print(\"Best Parameters (GBM):\", grid_gb.best_params_)\n",
    "print(\"Best CV Score (GBM):\", grid_gb.best_score_)\n"
   ]
  },
  {
   "cell_type": "code",
   "execution_count": 81,
   "id": "ca706a7f-3538-421e-80a2-387135a33272",
   "metadata": {},
   "outputs": [
    {
     "name": "stdout",
     "output_type": "stream",
     "text": [
      "Fitting 5 folds for each of 729 candidates, totalling 3645 fits\n",
      "Best Parameters (XGB): {'colsample_bytree': 0.8, 'gamma': 0.3, 'learning_rate': 0.05, 'max_depth': 5, 'n_estimators': 100, 'subsample': 1.0}\n",
      "Best CV Score (XGB): 0.7743129426486559\n"
     ]
    },
    {
     "name": "stderr",
     "output_type": "stream",
     "text": [
      "C:\\Users\\giris\\anaconda3\\envs\\torch_env\\lib\\site-packages\\xgboost\\core.py:158: UserWarning: [12:45:09] WARNING: D:\\bld\\xgboost-split_1744329000128\\work\\src\\learner.cc:740: \n",
      "Parameters: { \"use_label_encoder\" } are not used.\n",
      "\n",
      "  warnings.warn(smsg, UserWarning)\n"
     ]
    }
   ],
   "source": [
    "from xgboost import XGBClassifier\n",
    "\n",
    "xgb_model = XGBClassifier(\n",
    "    objective=\"binary:logistic\", \n",
    "    eval_metric=\"logloss\", \n",
    "    use_label_encoder=False,\n",
    "    random_state=42\n",
    ")\n",
    "\n",
    "param_grid_xgb = {\n",
    "    \"n_estimators\": [100, 200, 300],\n",
    "    \"learning_rate\": [0.01, 0.05, 0.1],\n",
    "    \"max_depth\": [3, 5, 7],\n",
    "    \"subsample\": [0.7, 0.8, 1.0],\n",
    "    \"colsample_bytree\": [0.7, 0.8, 1.0],\n",
    "    \"gamma\": [0, 0.1, 0.3]\n",
    "}\n",
    "\n",
    "\n",
    "grid_xgb = GridSearchCV(\n",
    "    estimator=xgb_model,\n",
    "    param_grid=param_grid_xgb,\n",
    "    scoring=\"f1\",      \n",
    "    n_jobs=-1,\n",
    "    cv=cv,\n",
    "    verbose=2\n",
    ")\n",
    "\n",
    "\n",
    "grid_xgb.fit(X_train, y_train)\n",
    "\n",
    "print(\"Best Parameters (XGB):\", grid_xgb.best_params_)\n",
    "print(\"Best CV Score (XGB):\", grid_xgb.best_score_)\n"
   ]
  },
  {
   "cell_type": "code",
   "execution_count": 82,
   "id": "42323e1c-a2cf-46a6-8be9-280a87a2fa1d",
   "metadata": {},
   "outputs": [
    {
     "name": "stdout",
     "output_type": "stream",
     "text": [
      "Fitting 5 folds for each of 216 candidates, totalling 1080 fits\n",
      "Best Params RF: {'max_depth': 10, 'max_features': 'sqrt', 'min_samples_leaf': 1, 'min_samples_split': 2, 'n_estimators': 200}\n",
      "Best CV Score RF: 0.7737537247155356\n"
     ]
    }
   ],
   "source": [
    "from sklearn.ensemble import RandomForestClassifier\n",
    "from sklearn.model_selection import GridSearchCV, StratifiedKFold\n",
    "\n",
    "rf = RandomForestClassifier(random_state=42)\n",
    "\n",
    "param_grid_rf = {\n",
    "    \"n_estimators\": [100, 200, 300],   \n",
    "    \"max_depth\": [None, 5, 10, 15],    \n",
    "    \"min_samples_split\": [2, 5, 10],\n",
    "    \"min_samples_leaf\": [1, 2, 4],\n",
    "    \"max_features\": [\"sqrt\", \"log2\"]   \n",
    "}\n",
    "\n",
    "cv = StratifiedKFold(n_splits=5, shuffle=True, random_state=42)\n",
    "\n",
    "grid_rf = GridSearchCV(\n",
    "    estimator=rf,\n",
    "    param_grid=param_grid_rf,\n",
    "    scoring=\"f1\",   \n",
    "    n_jobs=-1,\n",
    "    cv=cv,\n",
    "    verbose=2\n",
    ")\n",
    "\n",
    "grid_rf.fit(X_train, y_train)\n",
    "\n",
    "print(\"Best Params RF:\", grid_rf.best_params_)\n",
    "print(\"Best CV Score RF:\", grid_rf.best_score_)\n"
   ]
  },
  {
   "cell_type": "code",
   "execution_count": 83,
   "id": "94b7b664-6e2b-45e8-acdb-8e1ce89f5b77",
   "metadata": {},
   "outputs": [],
   "source": [
    "from sklearn.metrics import accuracy_score, f1_score, roc_auc_score, classification_report\n",
    "\n",
    "def compare_models(models, X_test, y_test):\n",
    "    \"\"\"\n",
    "    Compare multiple trained models on Accuracy, F1, and ROC-AUC.\n",
    "    \n",
    "    models: dict of { \"ModelName\": trained_model }\n",
    "    \"\"\"\n",
    "    results = []\n",
    "\n",
    "    for name, model in models.items():\n",
    "        \n",
    "        y_pred = model.predict(X_test)\n",
    "        y_pred_proba = model.predict_proba(X_test)[:, 1]\n",
    "\n",
    "        acc = accuracy_score(y_test, y_pred)\n",
    "        f1 = f1_score(y_test, y_pred)\n",
    "        roc = roc_auc_score(y_test, y_pred_proba)\n",
    "\n",
    "        results.append([name, acc, f1, roc])\n",
    "\n",
    "        print(f\"\\n{name} Results\")\n",
    "        print(\"-\" * 30)\n",
    "        print(\"Accuracy:\", round(acc, 3))\n",
    "        print(\"F1-score:\", round(f1, 3))\n",
    "        print(\"ROC-AUC:\", round(roc, 3))\n",
    "        print(\"\\nClassification Report:\")\n",
    "        print(classification_report(y_test, y_pred))\n",
    "\n",
    "\n",
    "    import pandas as pd\n",
    "    df_results = pd.DataFrame(results, columns=[\"Model\", \"Accuracy\", \"F1\", \"ROC-AUC\"])\n",
    "    print(\"\\nSummary Table:\")\n",
    "    print(df_results)\n",
    "    return df_results\n"
   ]
  },
  {
   "cell_type": "code",
   "execution_count": 84,
   "id": "9e410328-ed44-4910-9690-bd2a2d7ac8ef",
   "metadata": {},
   "outputs": [
    {
     "name": "stdout",
     "output_type": "stream",
     "text": [
      "\n",
      "Random Forest Results\n",
      "------------------------------\n",
      "Accuracy: 0.768\n",
      "F1-score: 0.759\n",
      "ROC-AUC: 0.846\n",
      "\n",
      "Classification Report:\n",
      "              precision    recall  f1-score   support\n",
      "\n",
      "           0       0.75      0.80      0.78      1684\n",
      "           1       0.78      0.74      0.76      1659\n",
      "\n",
      "    accuracy                           0.77      3343\n",
      "   macro avg       0.77      0.77      0.77      3343\n",
      "weighted avg       0.77      0.77      0.77      3343\n",
      "\n",
      "\n",
      "Gradient Boosting Results\n",
      "------------------------------\n",
      "Accuracy: 0.765\n",
      "F1-score: 0.758\n",
      "ROC-AUC: 0.847\n",
      "\n",
      "Classification Report:\n",
      "              precision    recall  f1-score   support\n",
      "\n",
      "           0       0.76      0.79      0.77      1684\n",
      "           1       0.77      0.74      0.76      1659\n",
      "\n",
      "    accuracy                           0.76      3343\n",
      "   macro avg       0.77      0.76      0.76      3343\n",
      "weighted avg       0.76      0.76      0.76      3343\n",
      "\n",
      "\n",
      "XGBoost Results\n",
      "------------------------------\n",
      "Accuracy: 0.765\n",
      "F1-score: 0.759\n",
      "ROC-AUC: 0.847\n",
      "\n",
      "Classification Report:\n",
      "              precision    recall  f1-score   support\n",
      "\n",
      "           0       0.76      0.78      0.77      1684\n",
      "           1       0.77      0.75      0.76      1659\n",
      "\n",
      "    accuracy                           0.76      3343\n",
      "   macro avg       0.77      0.76      0.76      3343\n",
      "weighted avg       0.77      0.76      0.76      3343\n",
      "\n",
      "\n",
      "Summary Table:\n",
      "               Model  Accuracy        F1   ROC-AUC\n",
      "0      Random Forest  0.767574  0.758771  0.845920\n",
      "1  Gradient Boosting  0.764583  0.757772  0.847273\n",
      "2            XGBoost  0.764882  0.758896  0.847217\n"
     ]
    }
   ],
   "source": [
    "best_rf = grid_rf.best_estimator_\n",
    "best_gb = grid_gb.best_estimator_\n",
    "best_xgb = grid_xgb.best_estimator_\n",
    "\n",
    "models = {\n",
    "    \"Random Forest\": best_rf,\n",
    "    \"Gradient Boosting\": best_gb,\n",
    "    \"XGBoost\": best_xgb\n",
    "}\n",
    "\n",
    "results_df = compare_models(models, X_test, y_test)"
   ]
  },
  {
   "cell_type": "code",
   "execution_count": 85,
   "id": "03c40596-d0e5-4fef-a839-a13a56601f93",
   "metadata": {},
   "outputs": [
    {
     "name": "stdout",
     "output_type": "stream",
     "text": [
      "✅ Threshold 0.20 gives recall=0.94, precision=0.62, f1=0.75\n"
     ]
    }
   ],
   "source": [
    "from sklearn.metrics import classification_report, precision_recall_curve\n",
    "import numpy as np\n",
    "\n",
    "y_pred_proba = best_xgb.predict_proba(X_test)[:, 1]\n",
    "\n",
    "thresholds = np.arange(0.2, 0.6, 0.02)  # test from 0.2 to 0.6\n",
    "for t in thresholds:\n",
    "    y_pred_custom = (y_pred_proba >= t).astype(int)\n",
    "    report = classification_report(y_test, y_pred_custom, output_dict=True)\n",
    "    recall_class1 = report['1']['recall']\n",
    "    if recall_class1 >= 0.80:\n",
    "        print(f\"✅ Threshold {t:.2f} gives recall={recall_class1:.2f}, \"\n",
    "              f\"precision={report['1']['precision']:.2f}, \"\n",
    "              f\"f1={report['1']['f1-score']:.2f}\")\n",
    "        break"
   ]
  },
  {
   "cell_type": "code",
   "execution_count": 87,
   "id": "3519ec8b-4db8-47cb-85aa-53cba79c3751",
   "metadata": {},
   "outputs": [
    {
     "name": "stdout",
     "output_type": "stream",
     "text": [
      "              precision    recall  f1-score   support\n",
      "\n",
      "           0       0.80      0.70      0.75      1684\n",
      "           1       0.73      0.82      0.77      1659\n",
      "\n",
      "    accuracy                           0.76      3343\n",
      "   macro avg       0.77      0.76      0.76      3343\n",
      "weighted avg       0.77      0.76      0.76      3343\n",
      "\n"
     ]
    }
   ],
   "source": [
    "chosen_threshold = 0.40  \n",
    "\n",
    "y_pred_custom = (y_pred_proba >= chosen_threshold).astype(int)\n",
    "\n",
    "from sklearn.metrics import classification_report\n",
    "print(classification_report(y_test, y_pred_custom))\n"
   ]
  },
  {
   "cell_type": "code",
   "execution_count": 89,
   "id": "62e77cfe-f7e7-4b6a-899d-937c3beef6ff",
   "metadata": {},
   "outputs": [],
   "source": [
    "def predict_with_threshold(model, X, threshold=0.40):\n",
    "    proba = model.predict_proba(X)[:, 1]\n",
    "    return (proba >= threshold).astype(int)\n"
   ]
  },
  {
   "cell_type": "code",
   "execution_count": null,
   "id": "402455fa-ebc6-4da9-818b-025bbf3a84c3",
   "metadata": {},
   "outputs": [],
   "source": []
  }
 ],
 "metadata": {
  "kernelspec": {
   "display_name": "py_gpu_env",
   "language": "python",
   "name": "py_gpu_env"
  },
  "language_info": {
   "codemirror_mode": {
    "name": "ipython",
    "version": 3
   },
   "file_extension": ".py",
   "mimetype": "text/x-python",
   "name": "python",
   "nbconvert_exporter": "python",
   "pygments_lexer": "ipython3",
   "version": "3.9.23"
  }
 },
 "nbformat": 4,
 "nbformat_minor": 5
}
